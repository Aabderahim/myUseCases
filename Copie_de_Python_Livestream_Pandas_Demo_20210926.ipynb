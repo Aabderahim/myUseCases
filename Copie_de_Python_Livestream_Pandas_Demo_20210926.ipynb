{
  "cells": [
    {
      "cell_type": "markdown",
      "metadata": {
        "id": "view-in-github",
        "colab_type": "text"
      },
      "source": [
        "<a href=\"https://colab.research.google.com/github/Aabderahim/myUseCases/blob/main/Copie_de_Python_Livestream_Pandas_Demo_20210926.ipynb\" target=\"_parent\"><img src=\"https://colab.research.google.com/assets/colab-badge.svg\" alt=\"Open In Colab\"/></a>"
      ]
    },
    {
      "cell_type": "code",
      "execution_count": null,
      "metadata": {
        "id": "MxdbXh2SnCfk"
      },
      "outputs": [],
      "source": [
        "import pandas as pd"
      ]
    },
    {
      "cell_type": "code",
      "execution_count": null,
      "metadata": {
        "id": "33CQ2DXsnCfo"
      },
      "outputs": [],
      "source": [
        "jeopardy = pd.read_csv('JEOPARDY_CSV.csv')"
      ]
    },
    {
      "cell_type": "code",
      "execution_count": null,
      "metadata": {
        "id": "7ETKYzIAnCfp",
        "outputId": "4b4f9556-a74a-4750-9d9d-2a38d66038ad"
      },
      "outputs": [
        {
          "data": {
            "text/html": [
              "<div>\n",
              "<style scoped>\n",
              "    .dataframe tbody tr th:only-of-type {\n",
              "        vertical-align: middle;\n",
              "    }\n",
              "\n",
              "    .dataframe tbody tr th {\n",
              "        vertical-align: top;\n",
              "    }\n",
              "\n",
              "    .dataframe thead th {\n",
              "        text-align: right;\n",
              "    }\n",
              "</style>\n",
              "<table border=\"1\" class=\"dataframe\">\n",
              "  <thead>\n",
              "    <tr style=\"text-align: right;\">\n",
              "      <th></th>\n",
              "      <th>Show Number</th>\n",
              "      <th>Air Date</th>\n",
              "      <th>Round</th>\n",
              "      <th>Category</th>\n",
              "      <th>Value</th>\n",
              "      <th>Question</th>\n",
              "      <th>Answer</th>\n",
              "    </tr>\n",
              "  </thead>\n",
              "  <tbody>\n",
              "    <tr>\n",
              "      <th>0</th>\n",
              "      <td>4680</td>\n",
              "      <td>12/31/2004</td>\n",
              "      <td>Jeopardy!</td>\n",
              "      <td>HISTORY</td>\n",
              "      <td>$200</td>\n",
              "      <td>For the last 8 years of his life, Galileo was ...</td>\n",
              "      <td>Copernicus</td>\n",
              "    </tr>\n",
              "    <tr>\n",
              "      <th>1</th>\n",
              "      <td>4680</td>\n",
              "      <td>12/31/2004</td>\n",
              "      <td>Jeopardy!</td>\n",
              "      <td>ESPN's TOP 10 ALL-TIME ATHLETES</td>\n",
              "      <td>$200</td>\n",
              "      <td>No. 2: 1912 Olympian; football star at Carlisl...</td>\n",
              "      <td>Jim Thorpe</td>\n",
              "    </tr>\n",
              "    <tr>\n",
              "      <th>2</th>\n",
              "      <td>4680</td>\n",
              "      <td>12/31/2004</td>\n",
              "      <td>Jeopardy!</td>\n",
              "      <td>EVERYBODY TALKS ABOUT IT...</td>\n",
              "      <td>$200</td>\n",
              "      <td>The city of Yuma in this state has a record av...</td>\n",
              "      <td>Arizona</td>\n",
              "    </tr>\n",
              "    <tr>\n",
              "      <th>3</th>\n",
              "      <td>4680</td>\n",
              "      <td>12/31/2004</td>\n",
              "      <td>Jeopardy!</td>\n",
              "      <td>THE COMPANY LINE</td>\n",
              "      <td>$200</td>\n",
              "      <td>In 1963, live on \"The Art Linkletter Show\", th...</td>\n",
              "      <td>McDonald's</td>\n",
              "    </tr>\n",
              "    <tr>\n",
              "      <th>4</th>\n",
              "      <td>4680</td>\n",
              "      <td>12/31/2004</td>\n",
              "      <td>Jeopardy!</td>\n",
              "      <td>EPITAPHS &amp; TRIBUTES</td>\n",
              "      <td>$200</td>\n",
              "      <td>Signer of the Dec. of Indep., framer of the Co...</td>\n",
              "      <td>John Adams</td>\n",
              "    </tr>\n",
              "  </tbody>\n",
              "</table>\n",
              "</div>"
            ],
            "text/plain": [
              "   Show Number    Air Date      Round                         Category  Value  \\\n",
              "0         4680  12/31/2004  Jeopardy!                          HISTORY  $200    \n",
              "1         4680  12/31/2004  Jeopardy!  ESPN's TOP 10 ALL-TIME ATHLETES  $200    \n",
              "2         4680  12/31/2004  Jeopardy!      EVERYBODY TALKS ABOUT IT...  $200    \n",
              "3         4680  12/31/2004  Jeopardy!                 THE COMPANY LINE  $200    \n",
              "4         4680  12/31/2004  Jeopardy!              EPITAPHS & TRIBUTES  $200    \n",
              "\n",
              "                                            Question      Answer  \n",
              "0  For the last 8 years of his life, Galileo was ...  Copernicus  \n",
              "1  No. 2: 1912 Olympian; football star at Carlisl...  Jim Thorpe  \n",
              "2  The city of Yuma in this state has a record av...     Arizona  \n",
              "3  In 1963, live on \"The Art Linkletter Show\", th...  McDonald's  \n",
              "4  Signer of the Dec. of Indep., framer of the Co...  John Adams  "
            ]
          },
          "execution_count": 3,
          "metadata": {},
          "output_type": "execute_result"
        }
      ],
      "source": [
        "jeopardy.head()"
      ]
    },
    {
      "cell_type": "code",
      "execution_count": null,
      "metadata": {
        "id": "FPc3XsALnCfq",
        "outputId": "d266716c-f1a1-46eb-8855-973689276418"
      },
      "outputs": [
        {
          "name": "stdout",
          "output_type": "stream",
          "text": [
            "<class 'pandas.core.frame.DataFrame'>\n",
            "RangeIndex: 216930 entries, 0 to 216929\n",
            "Data columns (total 7 columns):\n",
            " #   Column       Non-Null Count   Dtype \n",
            "---  ------       --------------   ----- \n",
            " 0   Show Number  216930 non-null  int64 \n",
            " 1    Air Date    216930 non-null  object\n",
            " 2    Round       216930 non-null  object\n",
            " 3    Category    216930 non-null  object\n",
            " 4    Value       216930 non-null  object\n",
            " 5    Question    216930 non-null  object\n",
            " 6    Answer      216928 non-null  object\n",
            "dtypes: int64(1), object(6)\n",
            "memory usage: 11.6+ MB\n"
          ]
        }
      ],
      "source": [
        "jeopardy.info()"
      ]
    },
    {
      "cell_type": "code",
      "execution_count": null,
      "metadata": {
        "id": "YGTn4cPwnCfr"
      },
      "outputs": [],
      "source": [
        "jeopardy.columns = [col.replace(' ','') for col in jeopardy.columns] # list comprehension"
      ]
    },
    {
      "cell_type": "code",
      "execution_count": null,
      "metadata": {
        "id": "xHsCWkYbnCfr",
        "outputId": "de2a3846-30d0-4216-a6a7-95ae1d0932ef"
      },
      "outputs": [
        {
          "name": "stdout",
          "output_type": "stream",
          "text": [
            "<class 'pandas.core.frame.DataFrame'>\n",
            "RangeIndex: 216930 entries, 0 to 216929\n",
            "Data columns (total 7 columns):\n",
            " #   Column      Non-Null Count   Dtype \n",
            "---  ------      --------------   ----- \n",
            " 0   ShowNumber  216930 non-null  int64 \n",
            " 1   AirDate     216930 non-null  object\n",
            " 2   Round       216930 non-null  object\n",
            " 3   Category    216930 non-null  object\n",
            " 4   Value       216930 non-null  object\n",
            " 5   Question    216930 non-null  object\n",
            " 6   Answer      216928 non-null  object\n",
            "dtypes: int64(1), object(6)\n",
            "memory usage: 11.6+ MB\n"
          ]
        }
      ],
      "source": [
        "jeopardy.info()"
      ]
    },
    {
      "cell_type": "code",
      "execution_count": null,
      "metadata": {
        "id": "ROya87zOnCfs"
      },
      "outputs": [],
      "source": [
        "categories = list(jeopardy.Category.value_counts().index[:100])"
      ]
    },
    {
      "cell_type": "code",
      "execution_count": null,
      "metadata": {
        "id": "ck1-wQfenCfs",
        "outputId": "e48b7d72-fb49-4168-ac1f-1e94cfae13a8"
      },
      "outputs": [
        {
          "data": {
            "text/plain": [
              "['BEFORE & AFTER',\n",
              " 'SCIENCE',\n",
              " 'LITERATURE',\n",
              " 'AMERICAN HISTORY',\n",
              " 'POTPOURRI',\n",
              " 'WORLD HISTORY',\n",
              " 'WORD ORIGINS',\n",
              " 'COLLEGES & UNIVERSITIES',\n",
              " 'HISTORY',\n",
              " 'SPORTS',\n",
              " 'U.S. CITIES',\n",
              " 'WORLD GEOGRAPHY',\n",
              " 'BODIES OF WATER',\n",
              " 'ANIMALS',\n",
              " 'STATE CAPITALS',\n",
              " 'BUSINESS & INDUSTRY',\n",
              " 'ISLANDS',\n",
              " 'WORLD CAPITALS',\n",
              " 'U.S. GEOGRAPHY',\n",
              " 'RELIGION',\n",
              " 'OPERA',\n",
              " 'SHAKESPEARE',\n",
              " 'LANGUAGES',\n",
              " 'BALLET',\n",
              " 'TELEVISION',\n",
              " 'FICTIONAL CHARACTERS',\n",
              " 'TRANSPORTATION',\n",
              " 'PEOPLE',\n",
              " 'RHYME TIME',\n",
              " 'STUPID ANSWERS',\n",
              " 'ART & ARTISTS',\n",
              " 'THE BIBLE',\n",
              " 'ART',\n",
              " 'BOOKS & AUTHORS',\n",
              " 'U.S. HISTORY',\n",
              " 'FOOD',\n",
              " 'MUSEUMS',\n",
              " 'SCIENCE & NATURE',\n",
              " 'AMERICANA',\n",
              " 'COMMON BONDS',\n",
              " 'GEOGRAPHY',\n",
              " 'HOLIDAYS & OBSERVANCES',\n",
              " '3-LETTER WORDS',\n",
              " 'ANNUAL EVENTS',\n",
              " 'AMERICAN LITERATURE',\n",
              " 'CLASSICAL MUSIC',\n",
              " 'AUTHORS',\n",
              " 'POP MUSIC',\n",
              " 'POETS & POETRY',\n",
              " 'QUOTATIONS',\n",
              " 'HODGEPODGE',\n",
              " 'MYTHOLOGY',\n",
              " 'NONFICTION',\n",
              " 'THE MOVIES',\n",
              " 'WORLD CITIES',\n",
              " 'MUSICAL INSTRUMENTS',\n",
              " 'AROUND THE WORLD',\n",
              " 'THE CIVIL WAR',\n",
              " 'MUSIC',\n",
              " 'U.S. PRESIDENTS',\n",
              " 'COMPOSERS',\n",
              " 'ASTRONOMY',\n",
              " 'FOOD & DRINK',\n",
              " '4-LETTER WORDS',\n",
              " 'BIOLOGY',\n",
              " 'HISTORIC NAMES',\n",
              " 'MOUNTAINS',\n",
              " 'POTENT POTABLES',\n",
              " 'HOMOPHONES',\n",
              " 'EUROPEAN HISTORY',\n",
              " 'MEDICINE',\n",
              " 'EXPLORERS',\n",
              " 'ORGANIZATIONS',\n",
              " 'SCIENTISTS',\n",
              " 'ARCHITECTURE',\n",
              " 'WEIGHTS & MEASURES',\n",
              " 'FIRST LADIES',\n",
              " 'TRAVEL & TOURISM',\n",
              " 'FRUITS & VEGETABLES',\n",
              " 'THE BODY HUMAN',\n",
              " 'MAGAZINES',\n",
              " 'IN THE DICTIONARY',\n",
              " 'FAMOUS AMERICANS',\n",
              " 'AWARDS',\n",
              " 'ZOOLOGY',\n",
              " 'NATURE',\n",
              " 'FOREIGN WORDS & PHRASES',\n",
              " 'VOCABULARY',\n",
              " 'FASHION',\n",
              " 'THEATRE',\n",
              " '#NAME?',\n",
              " 'CHEMISTRY',\n",
              " '19th CENTURY AMERICA',\n",
              " '5-LETTER WORDS',\n",
              " 'GOVERNMENT & POLITICS',\n",
              " 'WORLD LEADERS',\n",
              " 'PHYSICS',\n",
              " 'ABBREV.',\n",
              " 'U.S. STATES',\n",
              " 'NOTABLE NAMES']"
            ]
          },
          "execution_count": 12,
          "metadata": {},
          "output_type": "execute_result"
        }
      ],
      "source": [
        "categories"
      ]
    },
    {
      "cell_type": "code",
      "execution_count": null,
      "metadata": {
        "id": "j_4vrURQnCft"
      },
      "outputs": [],
      "source": [
        "writer = pd.ExcelWriter('jeopardy.xlsx') # creates staging area where you can add sheets to a file\n",
        "for c in categories: # loops through top 100 categories\n",
        "    sheet_name = c.replace('#','').replace('?','') # cleans up the sheet name\n",
        "    jeopardy[jeopardy.Category==c].to_excel(writer,sheet_name[:50]) # filters questions for each topic and saves them\n",
        "writer.save() # creates the file after all the sheets have been added"
      ]
    },
    {
      "cell_type": "code",
      "execution_count": null,
      "metadata": {
        "id": "MxE4AMwLnCfu"
      },
      "outputs": [],
      "source": [
        ""
      ]
    }
  ],
  "metadata": {
    "kernelspec": {
      "display_name": "Python 3",
      "language": "python",
      "name": "python3"
    },
    "language_info": {
      "codemirror_mode": {
        "name": "ipython",
        "version": 3
      },
      "file_extension": ".py",
      "mimetype": "text/x-python",
      "name": "python",
      "nbconvert_exporter": "python",
      "pygments_lexer": "ipython3",
      "version": "3.6.12"
    },
    "colab": {
      "name": "Copie de Python Livestream Pandas Demo 20210926.ipynb",
      "provenance": [],
      "include_colab_link": true
    }
  },
  "nbformat": 4,
  "nbformat_minor": 0
}